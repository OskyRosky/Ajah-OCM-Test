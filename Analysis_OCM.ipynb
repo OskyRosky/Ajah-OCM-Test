{
 "cells": [
  {
   "cell_type": "markdown",
   "metadata": {},
   "source": [
    "# Analysis OCM --> Ajah"
   ]
  },
  {
   "cell_type": "markdown",
   "metadata": {},
   "source": [
    "Context: GivingTuesday frequently looks at government and non-profit data to uncover insights and\n",
    "drive decision-making. We would like you to take a look at some data and deliver a report describing\n",
    "your initial data exploration and ideas for future work. This report should:\n",
    "● Summarize the data,\n",
    "● Describe some interesting patterns and/or trends in the data,\n",
    "● Outline what a future research/business project might look like and why you think it's important.\n",
    "\n",
    "Expectation: Spend 2-3 hours ingesting data and analyzing. Use Python or SQL in analysis.\n",
    "\n",
    "Objective: Test technical skills, but also (more importantly) research/business problem-solving.\n",
    "\n",
    "Dataset:\n",
    "● IRS Tax Extract and EOBMF\n",
    "● US nonprofits are tax-exempt organizations, who must publicly report their taxes. The datasets\n",
    "above summarize tax returns (tax extract) and organizations (EOBMF).\n",
    "\n",
    "Description:\n",
    "● Your job is to choose one or both files, and:\n",
    "○ Quickly characterize the “grain” (what are rows unique to)\n",
    "○ Quickly characterize the broad categories of data available (not by data type, but at the\n",
    "semantic / analysis level)\n",
    "○ Define an interesting business or research problem to solve\n",
    "○ Quickly characterize the dataset (via summary stats or graphs), to generally characterize\n",
    "the data you’ll be using for analysis.\n",
    "○ Provide tabular and graphical breakdowns (at least one of each) of the data, along with\n",
    "written commentary, to begin addressing that problem.\n",
    "\n",
    "Expected outputs:\n",
    "● Notebook containing code (Python or SQL), as well as tabular, graphical, and text outputs.\n",
    "● Text outputs should:\n",
    "○ Describe the dataset used (which file(s), grain & categories of data)\n",
    "○ Describe the problem and why you think it’s important\n",
    "○ Describe each analysis output - what it is and how it informs the business problem\n",
    "\n",
    "Criteria we’ll be reviewing\n",
    "● Overall coding and notebook approach\n",
    "● Justification of what problem you choose\n",
    "● Analytic approach to solving the problem\n",
    "● Ability to communicate, in words, your findings\n",
    "● Overall sense of quality, prioritization, approach, and technical skill\n",
    "\n",
    "Desirable skills:\n",
    "● Translating business problems into analyses\n",
    "● Writing up and communicating results to technical and non-technical audiences\n",
    "● Building notebooks or dashboards to make analysis repeatable (as needed)"
   ]
  },
  {
   "cell_type": "markdown",
   "metadata": {},
   "source": [
    "## Libraries & WD"
   ]
  },
  {
   "cell_type": "markdown",
   "metadata": {},
   "source": [
    "### Libraries"
   ]
  },
  {
   "cell_type": "code",
   "execution_count": 1,
   "metadata": {},
   "outputs": [],
   "source": [
    "# Data manipulation\n",
    "# ==============================================================================\n",
    "\n",
    "import os \n",
    "import pandas as pd\n",
    "import numpy as np\n",
    "import openpyxl\n",
    "import operator\n",
    "from joblib import dump\n",
    "from joblib import dump\n",
    "\n",
    "\n",
    "# Plots\n",
    "# ==============================================================================\n",
    "import matplotlib.pyplot as plt\n",
    "import seaborn as sns\n",
    "plt.style.use('fivethirtyeight')\n",
    "plt.rcParams['lines.linewidth'] = 1.5\n",
    "plt.rcParams['font.size'] = 10\n",
    "\n",
    "from sklearn.model_selection import train_test_split, learning_curve, validation_curve, learning_curve\n",
    "from sklearn.linear_model import LinearRegression\n",
    "from sklearn.metrics import mean_squared_error, roc_curve, auc, confusion_matrix\n",
    "\n",
    "# Modeling \n",
    "# ==============================================================================\n",
    "\n",
    "from sklearn.model_selection import train_test_split, learning_curve, validation_curve\n",
    "from sklearn.metrics import accuracy_score\n",
    "from sklearn.linear_model import LinearRegression\n",
    "from sklearn.metrics import mean_squared_error, accuracy_score, precision_score, recall_score, f1_score, roc_auc_score\n",
    "\n",
    "\n",
    "# Warnings configuration\n",
    "# ==============================================================================\n",
    "import warnings\n",
    "warnings.filterwarnings('once')"
   ]
  },
  {
   "cell_type": "markdown",
   "metadata": {},
   "source": [
    "### Set Working directory"
   ]
  },
  {
   "cell_type": "code",
   "execution_count": 2,
   "metadata": {},
   "outputs": [],
   "source": [
    "# Set the working directory\n",
    "\n",
    "workspace_directory = \"/Users/oskyroski/DataScience/Jobs/Ajah\"\n",
    "os.chdir(workspace_directory)"
   ]
  },
  {
   "cell_type": "markdown",
   "metadata": {},
   "source": [
    "### Ingest data files"
   ]
  },
  {
   "cell_type": "code",
   "execution_count": 3,
   "metadata": {},
   "outputs": [
    {
     "name": "stderr",
     "output_type": "stream",
     "text": [
      "/var/folders/12/hygw2v555q7gknf575sn1wn00000gn/T/ipykernel_4071/3857208460.py:5: DtypeWarning: Columns (168,191,192,249,269) have mixed types. Specify dtype option on import or set low_memory=False.\n",
      "  df_csv = pd.read_csv('sit-2022.csv')\n"
     ]
    }
   ],
   "source": [
    "# Leer el archivo Excel (.xlsx)\n",
    "df_excel = pd.read_excel('22eoextract990.xlsx')\n",
    "\n",
    "# Leer el archivo CSV\n",
    "df_csv = pd.read_csv('sit-2022.csv')"
   ]
  },
  {
   "cell_type": "markdown",
   "metadata": {},
   "source": [
    "## Session information"
   ]
  },
  {
   "cell_type": "code",
   "execution_count": 4,
   "metadata": {},
   "outputs": [
    {
     "name": "stdout",
     "output_type": "stream",
     "text": [
      "-----\n",
      "joblib              1.3.2\n",
      "matplotlib          3.8.3\n",
      "numpy               1.26.1\n",
      "openpyxl            3.1.2\n",
      "pandas              2.1.1\n",
      "seaborn             0.13.2\n",
      "session_info        1.0.0\n",
      "sklearn             1.4.1.post1\n",
      "-----\n",
      "IPython             8.16.1\n",
      "jupyter_client      8.5.0\n",
      "jupyter_core        5.4.0\n",
      "-----\n",
      "Python 3.11.6 (v3.11.6:8b6ee5ba3b, Oct  2 2023, 11:18:21) [Clang 13.0.0 (clang-1300.0.29.30)]\n",
      "macOS-13.5.2-x86_64-i386-64bit\n",
      "-----\n",
      "Session information updated at 2024-04-01 10:58\n"
     ]
    }
   ],
   "source": [
    "import session_info\n",
    "session_info.show(html=False)"
   ]
  }
 ],
 "metadata": {
  "kernelspec": {
   "display_name": "Python 3",
   "language": "python",
   "name": "python3"
  },
  "language_info": {
   "codemirror_mode": {
    "name": "ipython",
    "version": 3
   },
   "file_extension": ".py",
   "mimetype": "text/x-python",
   "name": "python",
   "nbconvert_exporter": "python",
   "pygments_lexer": "ipython3",
   "version": "3.11.6"
  }
 },
 "nbformat": 4,
 "nbformat_minor": 2
}
